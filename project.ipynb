{
 "cells": [
  {
   "cell_type": "code",
   "execution_count": 202,
   "id": "7a8a5962",
   "metadata": {},
   "outputs": [],
   "source": [
    "import pandas as pd\n",
    "import numpy as np\n",
    "from math import sqrt\n",
    "from sklearn.metrics import roc_auc_score\n",
    "from sklearn.metrics import accuracy_score"
   ]
  },
  {
   "cell_type": "code",
   "execution_count": 203,
   "id": "1c0d07cf",
   "metadata": {},
   "outputs": [],
   "source": [
    "df = pd.read_csv('C:/Users/gaolingxiao/Desktop/hw/cleaned_spotify.csv')\n",
    "df['name'] = df['name'].astype('category').cat.codes\n",
    "df['id'] = df['id'].astype('category').cat.codes\n",
    "df['popularity'] = df['popularity'].astype(np.uint8)\n",
    "df['id'] = df['id'].astype(np.uint8)\n",
    "df['name'] = df['name'].astype(np.uint8)"
   ]
  },
  {
   "cell_type": "code",
   "execution_count": 204,
   "id": "440ce73a",
   "metadata": {},
   "outputs": [
    {
     "name": "stderr",
     "output_type": "stream",
     "text": [
      "c:\\Users\\gaolingxiao\\AppData\\Local\\Programs\\Python\\Python310\\lib\\site-packages\\sklearn\\decomposition\\_nmf.py:289: FutureWarning: The 'init' value, when 'init=None' and n_components is less than n_samples and n_features, will be changed from 'nndsvd' to 'nndsvda' in 1.1 (renaming of 0.26).\n",
      "  warnings.warn(\n",
      "c:\\Users\\gaolingxiao\\AppData\\Local\\Programs\\Python\\Python310\\lib\\site-packages\\sklearn\\decomposition\\_nmf.py:1637: ConvergenceWarning: Maximum number of iterations 200 reached. Increase it to improve convergence.\n",
      "  warnings.warn(\n"
     ]
    }
   ],
   "source": [
    "user_id = df[\"id\"]\n",
    "music_id = df[\"name\"]\n",
    "popularity = df[\"popularity\"]\n",
    "\n",
    "user_train, user_test, music_train, music_test, popularity_train, popularity_test = train_test_split(user_id, music_id, popularity, test_size = 0.2, train_size = 0.8)\n",
    "row = np.array(user_train)\n",
    "col = np.array(music_train)\n",
    "data = np.array(popularity_train)\n",
    "popularity = csr_matrix((data, (row, col))).toarray()\n",
    "model = NMF(n_components=1)\n",
    "W = model.fit_transform(popularity)\n",
    "H = model.components_\n",
    "new_matrix = np.inner(W, H.transpose()) "
   ]
  },
  {
   "cell_type": "code",
   "execution_count": 205,
   "id": "c7dbfbc1",
   "metadata": {},
   "outputs": [
    {
     "name": "stdout",
     "output_type": "stream",
     "text": [
      "RMSE on testing: 5.340187132101645\n",
      "RMSE on training: 5.350567778092429\n"
     ]
    }
   ],
   "source": [
    "predicted_training_popularity = []\n",
    "for i in range(0, len(user_train)):\n",
    "    predicted_training_popularity.append(new_matrix[row[i]][col[i]])\n",
    "rmse_train = sqrt(mean_squared_error(data, predicted_training_popularity, squared=False))\n",
    "\n",
    "row = np.array(user_test)\n",
    "col = np.array(music_test)\n",
    "data = np.array(popularity_test)\n",
    "predicted_test_popularity = []\n",
    "for i in range(0, len(user_test)):\n",
    "    predicted_test_popularity.append(new_matrix[row[i]][col[i]])\n",
    "rmse_test = sqrt(mean_squared_error(data, predicted_test_popularity, squared=False))\n",
    "\n",
    "print(\"RMSE on testing:\", rmse_test )\n",
    "print(\"RMSE on training:\", rmse_train)"
   ]
  }
 ],
 "metadata": {
  "interpreter": {
   "hash": "86a7d433fb56ed8d6e90ddcd11dbd8a37ed209b5d71be98ececb28f61ae9c0fa"
  },
  "kernelspec": {
   "display_name": "Python 3.10.4 64-bit",
   "language": "python",
   "name": "python3"
  },
  "language_info": {
   "codemirror_mode": {
    "name": "ipython",
    "version": 3
   },
   "file_extension": ".py",
   "mimetype": "text/x-python",
   "name": "python",
   "nbconvert_exporter": "python",
   "pygments_lexer": "ipython3",
   "version": "3.10.4"
  }
 },
 "nbformat": 4,
 "nbformat_minor": 5
}
